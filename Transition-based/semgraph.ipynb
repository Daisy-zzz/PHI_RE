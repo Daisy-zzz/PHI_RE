{
 "cells": [
  {
   "cell_type": "code",
   "execution_count": 3,
   "metadata": {},
   "outputs": [],
   "source": [
    "import pandas as pd\n",
    "import typing"
   ]
  },
  {
   "cell_type": "code",
   "execution_count": 4,
   "metadata": {},
   "outputs": [
    {
     "data": {
      "text/plain": [
       "\"\\n'dependency' cols example for each text:\\n\\nchild-node\\tchild-type\\tchild-text\\tfather-node \\tfather-type     \\t relation\\n        2\\tE340ca71c\\t麻木   \\t         1  \\t E320ca3f6 \\t左上肢 \\tR742a31d5\\n        4\\tE340ca71c\\t言语不清\\t       3    \\tE1ceb2bd7\\t发作性 \\tR742a31d5\\n        4\\tE340ca71c\\t言语不清\\t       5    \\tE1deb2d6a\\t5天  \\tR742a31d5\\n        9\\tE310ca263\\t改善循环\\t       8    \\tE1deb2d6a\\t入院后 \\tR742a31d5\\n        ......\\n\""
      ]
     },
     "execution_count": 4,
     "metadata": {},
     "output_type": "execute_result"
    }
   ],
   "source": [
    "\"\"\"\n",
    "'dependency' cols example for each text:\n",
    "\n",
    "child-node\tchild-type\tchild-text\tfather-node \tfather-type     \t relation\n",
    "        2\tE340ca71c\t麻木   \t         1  \t E320ca3f6 \t左上肢 \tR742a31d5\n",
    "        4\tE340ca71c\t言语不清\t       3    \tE1ceb2bd7\t发作性 \tR742a31d5\n",
    "        4\tE340ca71c\t言语不清\t       5    \tE1deb2d6a\t5天  \tR742a31d5\n",
    "        9\tE310ca263\t改善循环\t       8    \tE1deb2d6a\t入院后 \tR742a31d5\n",
    "        ......\n",
    "\"\"\""
   ]
  },
  {
   "cell_type": "code",
   "execution_count": 5,
   "metadata": {},
   "outputs": [],
   "source": [
    "class EntityNode(object):\n",
    "    def __init__(self, id: int, type: str, text: str) -> None:\n",
    "        self.id = id\n",
    "        self.type = type\n",
    "        self.text = text\n",
    "        self.father = list()\n",
    "        self.child = list()\n",
    "        \n",
    "    \n",
    "    def get_id(self) -> int:\n",
    "        return self.id\n",
    "    \n",
    "    \n",
    "    def get_type(self) -> str:\n",
    "        return self.type\n",
    "    \n",
    "    \n",
    "    def get_text(self) -> str:\n",
    "        return self.text\n",
    "    \n",
    "    \n",
    "    def add_child(self, child: int) -> None:\n",
    "        self.child.append(child)\n",
    "        \n",
    "        \n",
    "    def add_father(self, father: int) -> None:\n",
    "        self.father.append(father)\n",
    "        \n",
    "        \n",
    "    def get_child(self) -> typing.List[int]:\n",
    "        return self.child\n",
    "    \n",
    "    \n",
    "    def get_father(self) -> typing.List[int]:\n",
    "        return self.father"
   ]
  },
  {
   "cell_type": "code",
   "execution_count": 6,
   "metadata": {},
   "outputs": [],
   "source": [
    "class RelationArc(object):\n",
    "    def __init__(self, father: int, child: int, relation: str) -> None:\n",
    "        self.head = father\n",
    "        self.tail = child\n",
    "        self.relation = relation\n",
    "    \n",
    "    \n",
    "    def get_head(self) -> int:\n",
    "        return self.head\n",
    "    \n",
    "    \n",
    "    def get_tail(self) -> int:\n",
    "        return self.tail\n",
    "    \n",
    "    \n",
    "    def get_relation(self) -> str:\n",
    "        return self.relation"
   ]
  },
  {
   "cell_type": "code",
   "execution_count": 7,
   "metadata": {},
   "outputs": [],
   "source": [
    "class DependencyGraph(object):\n",
    "    def __init__(self) -> None:\n",
    "        self.nodedict = dict()\n",
    "        self.arclist = list()\n",
    "    \n",
    "    \n",
    "    def add_node(self, node: EntityNode) -> None:\n",
    "        self.nodedict[node.get_id()] = node\n",
    "        \n",
    "    \n",
    "    def get_node_list(self) -> typing.List[int]:\n",
    "        node_list = []\n",
    "        for node_id in self.nodedict.keys():\n",
    "            node_list.append(node_id)\n",
    "        node_list.sort()\n",
    "        return node_list\n",
    "    \n",
    "    \n",
    "    def get_node(self, id: int) -> EntityNode:\n",
    "        if id in self.nodedict.keys():\n",
    "            return self.nodedict.get(id)\n",
    "        return None\n",
    "        # 若不存在，返回空值\n",
    "        \n",
    "        \n",
    "    def add_arc(self, arc: RelationArc) -> None:\n",
    "        if arc not in self.arclist:\n",
    "            self.arclist.append(arc)\n",
    "        \n",
    "    \n",
    "    def get_arc(self, head: int, tail: int) -> RelationArc:\n",
    "        for arc in self.arclist:\n",
    "            if head == arc.get_head() and tail == arc.get_tail():\n",
    "                return arc\n",
    "        return None\n",
    "        # 若不存在，返回空值"
   ]
  },
  {
   "cell_type": "code",
   "execution_count": 9,
   "metadata": {},
   "outputs": [
    {
     "name": "stderr",
     "output_type": "stream",
     "text": [
      "[NbConvertApp] Converting notebook semgraph.ipynb to python\n",
      "[NbConvertApp] Writing 2887 bytes to semgraph.py\n"
     ]
    }
   ],
   "source": [
    "try:  \n",
    "  !jupyter nbconvert --to python transition.ipynb\n",
    "  # python即转化为.py，script即转化为.html\n",
    "  # file_name.ipynb即当前module的文件名\n",
    "except:\n",
    "  pass"
   ]
  },
  {
   "cell_type": "code",
   "execution_count": null,
   "metadata": {},
   "outputs": [],
   "source": []
  }
 ],
 "metadata": {
  "kernelspec": {
   "display_name": "Python 3",
   "language": "python",
   "name": "python3"
  },
  "language_info": {
   "codemirror_mode": {
    "name": "ipython",
    "version": 3
   },
   "file_extension": ".py",
   "mimetype": "text/x-python",
   "name": "python",
   "nbconvert_exporter": "python",
   "pygments_lexer": "ipython3",
   "version": "3.7.6"
  }
 },
 "nbformat": 4,
 "nbformat_minor": 4
}
